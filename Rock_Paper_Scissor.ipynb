{
 "cells": [
  {
   "cell_type": "markdown",
   "id": "1092b71a",
   "metadata": {},
   "source": [
    "# Virtual Internship Program(VIP) by AINE AI\n",
    "\n",
    "`Submitted by: Chandra Sekar. A`\n",
    "\n",
    "### Data Science Intern\n",
    "\n",
    "### Project Title: Essentials of Python Programming\n",
    "#### Project: Developing ‘Rock, Paper and Scissors’ game using Python programming\n",
    "#### About the project: \n",
    "* The project leverages the basic concepts of Python programming such as variables, data types, loop and conditional statements to develop the game of Rock, Paper and Scissor."
   ]
  },
  {
   "cell_type": "markdown",
   "id": "09c76200",
   "metadata": {},
   "source": [
    "# Importing library"
   ]
  },
  {
   "cell_type": "code",
   "execution_count": 1,
   "id": "bf8b7aba",
   "metadata": {},
   "outputs": [],
   "source": [
    "import random"
   ]
  },
  {
   "cell_type": "markdown",
   "id": "fae9e613",
   "metadata": {},
   "source": [
    "# Game Rules"
   ]
  },
  {
   "cell_type": "markdown",
   "id": "2bafd658",
   "metadata": {},
   "source": [
    "> Instruction and rules for playing the game\n",
    "> 1. Rock Crushes Scissor\n",
    "> 2. Scissor cuts Paper\n",
    "> 3. Paper covers Rock\n",
    "* User will select one from the choices given and computer choses one, based on the above condition user either win or lose"
   ]
  },
  {
   "cell_type": "markdown",
   "id": "57b3f4ed",
   "metadata": {},
   "source": [
    "# Code for the game"
   ]
  },
  {
   "cell_type": "code",
   "execution_count": 12,
   "id": "6913d224",
   "metadata": {},
   "outputs": [],
   "source": [
    "def play_game(possible_choice, play):\n",
    "    \n",
    "    # Using while loop to enter into a loop\n",
    "    while True:\n",
    "        \n",
    "        # Starting with a question to weather play the game or not\n",
    "        play_game = input(\"Play game:(y/n)\")\n",
    "        \n",
    "        # if the player types anything other than y it exits the game\n",
    "        if play_game.lower() != 'y':\n",
    "            print(\"You stopped the game, Thanks for playing\")\n",
    "            break\n",
    "        \n",
    "        # If y is entered it starts the game\n",
    "        else:\n",
    "            # based on the number of attempts the game number will be shown\n",
    "            print(f\"Game - {play}\")\n",
    "            \n",
    "            # Entering your/user choice\n",
    "            player_choice = input(f\"Enter your choice => {possible_choice}\")\n",
    "            # converting user choice to lower inorder to avoid case sensitive situation\n",
    "            player_choice = player_choice.lower()\n",
    "            \n",
    "            # computer choice will be random\n",
    "            computer_choice = random.choices((possible_choice))[0]\n",
    "            \n",
    "            # if entered text is not available it shows the message\n",
    "            if player_choice not in possible_choice:\n",
    "                print(\"\"\"Invalid choice!!! \n",
    "            =======>Enter the correct choice from above options:-\"\"\")\n",
    "            else:\n",
    "                print(f\"Your choice is: {player_choice} \\nComputer choice is: {computer_choice}\")\n",
    "            \n",
    "            # Condistions for the game is mentioned and based on the condition the user or the computer wins\n",
    "            if player_choice == computer_choice:\n",
    "                print(\"It is a Tie!!!!!!!!\")\n",
    "                play += 1\n",
    "                print(\"-----------------------------\")\n",
    "            \n",
    "            elif player_choice != computer_choice:\n",
    "                if player_choice=='rock':\n",
    "                    if computer_choice=='paper':\n",
    "                        print(\"Paper covers rock, You Lose!!!!!!\")\n",
    "                    else:\n",
    "                        print(\"Rock Cruses Scissor, You win!!!!!!\")\n",
    "\n",
    "                elif player_choice=='paper':\n",
    "                    if computer_choice=='scissor':\n",
    "                        print(\"Scissor cuts Paper, You Lose!!!!!!\")\n",
    "                    else:\n",
    "                        print(\"Paper covers Rock, You win!!!!!!\")\n",
    "\n",
    "                elif player_choice=='scissor':\n",
    "                    if computer_choice=='rock':\n",
    "                        print(\"Rock Cruses Scissor, You Lose!!!!!!\")\n",
    "                    else:\n",
    "                        print(\"Scissor cuts Paper, You win!!!!!!\")\n",
    "                print(\"-----------------------------\")\n",
    "\n",
    "                play += 1\n",
    "\n",
    "            continue"
   ]
  },
  {
   "cell_type": "markdown",
   "id": "ee5a0795",
   "metadata": {},
   "source": [
    "# Lets play the game"
   ]
  },
  {
   "cell_type": "code",
   "execution_count": 13,
   "id": "f4e5bc6c",
   "metadata": {},
   "outputs": [
    {
     "name": "stdout",
     "output_type": "stream",
     "text": [
      "Play game:(y/n)y\n",
      "Game - 1\n",
      "Enter your choice => ['rock', 'paper', 'scissor']rock\n",
      "Your choice is: rock \n",
      "Computer choice is: paper\n",
      "Paper covers rock, You Lose!!!!!!\n",
      "-----------------------------\n",
      "Play game:(y/n)y\n",
      "Game - 2\n",
      "Enter your choice => ['rock', 'paper', 'scissor']scissor\n",
      "Your choice is: scissor \n",
      "Computer choice is: scissor\n",
      "It is a Tie!!!!!!!!\n",
      "-----------------------------\n",
      "Play game:(y/n)y\n",
      "Game - 3\n",
      "Enter your choice => ['rock', 'paper', 'scissor']paper\n",
      "Your choice is: paper \n",
      "Computer choice is: scissor\n",
      "Scissor cuts Paper, You Lose!!!!!!\n",
      "-----------------------------\n",
      "Play game:(y/n)n\n",
      "You stopped the game, Thanks for playing\n"
     ]
    }
   ],
   "source": [
    "# Assigning the possible choices for the game\n",
    "possible_choice = ['rock', 'paper', 'scissor']\n",
    "    \n",
    "play_game(possible_choice, play = 1)"
   ]
  },
  {
   "cell_type": "code",
   "execution_count": null,
   "id": "0cab7c91",
   "metadata": {},
   "outputs": [],
   "source": []
  }
 ],
 "metadata": {
  "kernelspec": {
   "display_name": "Python 3",
   "language": "python",
   "name": "python3"
  },
  "language_info": {
   "codemirror_mode": {
    "name": "ipython",
    "version": 3
   },
   "file_extension": ".py",
   "mimetype": "text/x-python",
   "name": "python",
   "nbconvert_exporter": "python",
   "pygments_lexer": "ipython3",
   "version": "3.8.8"
  }
 },
 "nbformat": 4,
 "nbformat_minor": 5
}
